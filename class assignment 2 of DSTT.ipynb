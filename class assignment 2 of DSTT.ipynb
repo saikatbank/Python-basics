{
 "cells": [
  {
   "cell_type": "markdown",
   "id": "e2cba9cf",
   "metadata": {},
   "source": [
    "Q.1"
   ]
  },
  {
   "cell_type": "code",
   "execution_count": 1,
   "id": "9d28e192",
   "metadata": {},
   "outputs": [
    {
     "name": "stdout",
     "output_type": "stream",
     "text": [
      "Enter a number: 2\n",
      "Enter another number: 5\n",
      "sum is 7.0\n"
     ]
    }
   ],
   "source": [
    "a,b=float(input('Enter a number: ')),float(input('Enter another number: '))\n",
    "print(f'sum is {a+b}')"
   ]
  },
  {
   "cell_type": "markdown",
   "id": "261b2a09",
   "metadata": {},
   "source": [
    "Q.2 "
   ]
  },
  {
   "cell_type": "code",
   "execution_count": 2,
   "id": "46068825",
   "metadata": {},
   "outputs": [
    {
     "name": "stdout",
     "output_type": "stream",
     "text": [
      "Enter your marks as space separated integer: 25 46 56 45 40\n",
      "you are fail and grade is F\n"
     ]
    }
   ],
   "source": [
    "marks=[0,40,60,70,80,90,101]\n",
    "grades=['F','D','C','B','A','A+']\n",
    "your_marks=list(map(int,input('Enter your marks as space separated integer: ').split()))\n",
    "percentage=(sum(your_marks)/len(your_marks))\n",
    "for i in range(len(grades)):\n",
    "    if min(your_marks)<40:\n",
    "        print('you are fail and grade is F')\n",
    "        break\n",
    "    elif marks[i]<=percentage<marks[i+1]:\n",
    "        print(f'your mark is {percentage}% and grade is {grades[i]}')"
   ]
  },
  {
   "cell_type": "markdown",
   "id": "3a44ff5f",
   "metadata": {},
   "source": [
    "Q.3"
   ]
  },
  {
   "cell_type": "code",
   "execution_count": 3,
   "id": "5e826e22",
   "metadata": {},
   "outputs": [
    {
     "name": "stdout",
     "output_type": "stream",
     "text": [
      "Enter 1st number: 5\n",
      "Enter 2nd number: 6\n",
      "Enter 3rd number: 2\n",
      "maximum among these three numbers is 6.0\n"
     ]
    }
   ],
   "source": [
    "a,b,c=float(input('Enter 1st number: ')),float(input('Enter 2nd number: ')),float(input('Enter 3rd number: '))\n",
    "print('maximum among these three numbers is',max(max(a,b),c))"
   ]
  },
  {
   "cell_type": "markdown",
   "id": "4a58c69c",
   "metadata": {},
   "source": [
    "Q.4"
   ]
  },
  {
   "cell_type": "code",
   "execution_count": 4,
   "id": "ddcac75e",
   "metadata": {},
   "outputs": [
    {
     "name": "stdout",
     "output_type": "stream",
     "text": [
      "5\n",
      "Required output is:\n",
      "*\n",
      "**\n",
      "***\n",
      "****\n",
      "*****\n"
     ]
    }
   ],
   "source": [
    "a=int(input())\n",
    "print('Required output is:')\n",
    "for i in range(1,a+1):\n",
    "    print('*'*i)"
   ]
  },
  {
   "cell_type": "markdown",
   "id": "d7ccc075",
   "metadata": {},
   "source": [
    "Q.5"
   ]
  },
  {
   "cell_type": "code",
   "execution_count": 5,
   "id": "3eb34318",
   "metadata": {},
   "outputs": [
    {
     "name": "stdout",
     "output_type": "stream",
     "text": [
      "    *    \n",
      "  *   *  \n",
      "*   *   *\n",
      "  *   *  \n",
      "    *    \n"
     ]
    }
   ],
   "source": [
    "print('    *    ')\n",
    "print('  *   *  ')\n",
    "print('*   *   *')\n",
    "print('  *   *  ')\n",
    "print('    *    ')"
   ]
  },
  {
   "cell_type": "markdown",
   "id": "f2aea9df",
   "metadata": {},
   "source": [
    "Q.6"
   ]
  },
  {
   "cell_type": "code",
   "execution_count": 6,
   "id": "e0790662",
   "metadata": {},
   "outputs": [
    {
     "name": "stdout",
     "output_type": "stream",
     "text": [
      "5\n",
      "\n",
      "*\n",
      "**\n",
      "***\n",
      "****\n",
      "*****\n",
      "****\n",
      "***\n",
      "**\n",
      "*\n"
     ]
    }
   ],
   "source": [
    "a=int(input())\n",
    "for i in range(a):\n",
    "    print('*'*i)\n",
    "for i in range(a,0,-1):\n",
    "    print('*'*i)"
   ]
  },
  {
   "cell_type": "markdown",
   "id": "27fec6cf",
   "metadata": {},
   "source": [
    "Q.7"
   ]
  },
  {
   "cell_type": "code",
   "execution_count": 7,
   "id": "37881cb6",
   "metadata": {},
   "outputs": [
    {
     "name": "stdout",
     "output_type": "stream",
     "text": [
      "[10, 8, 6, 4, 2]\n",
      "a) length of list is 5\n",
      "b) element at index 0 is 10\n",
      "c) the new list by adding 0 is [10, 8, 6, 4, 2, 0]\n",
      "d) appending the number 12 list becomes [10, 8, 6, 4, 2, 12]\n",
      "e) at index -1 position the element is 12\n",
      "f) after removing first element from list, the list is [8, 6, 4, 2, 12]\n",
      "the reversed list is [12, 2, 4, 6, 8]\n",
      "the sorted list is [2, 4, 6, 8, 12]\n"
     ]
    }
   ],
   "source": [
    "my_list=[x for x in range(10,0,-2)]\n",
    "print(my_list)\n",
    "#a\n",
    "print('a) length of list is',len(my_list))\n",
    "#b\n",
    "print('b) element at index 0 is',my_list[0])                   \n",
    "#c\n",
    "new=[0]\n",
    "print('c) the new list by adding 0 is',my_list+new)\n",
    "#d\n",
    "my_list.append(12)\n",
    "print('d) appending the number 12 list becomes',my_list)\n",
    "#e\n",
    "print('e) at index -1 position the element is',my_list[-1])\n",
    "#f\n",
    "my_list.pop(0)\n",
    "print('f) after removing first element from list, the list is', my_list)\n",
    "#g\n",
    "my_list.reverse()\n",
    "print('the reversed list is', my_list)\n",
    "#h\n",
    "my_list.sort()\n",
    "print('the sorted list is',my_list)"
   ]
  },
  {
   "cell_type": "markdown",
   "id": "029fd6f1",
   "metadata": {},
   "source": [
    "Q.8"
   ]
  },
  {
   "cell_type": "code",
   "execution_count": 8,
   "id": "14cc9fb9",
   "metadata": {},
   "outputs": [
    {
     "name": "stdout",
     "output_type": "stream",
     "text": [
      "<class 'dict'>\n"
     ]
    }
   ],
   "source": [
    "capital={'India':'New Delhi','USA':'Washington DC','France':'Paris','Sri Lanka':'Colmbo'}\n",
    "print(type(capital))"
   ]
  },
  {
   "cell_type": "code",
   "execution_count": 9,
   "id": "2c099ee1",
   "metadata": {},
   "outputs": [
    {
     "name": "stdout",
     "output_type": "stream",
     "text": [
      "New Delhi\n"
     ]
    }
   ],
   "source": [
    "print(capital['India'])"
   ]
  },
  {
   "cell_type": "code",
   "execution_count": 10,
   "id": "9d0dcfb4",
   "metadata": {},
   "outputs": [
    {
     "name": "stdout",
     "output_type": "stream",
     "text": [
      "Paris\n"
     ]
    }
   ],
   "source": [
    "print(capital['France'])"
   ]
  },
  {
   "cell_type": "code",
   "execution_count": 11,
   "id": "a142655e",
   "metadata": {},
   "outputs": [
    {
     "name": "stdout",
     "output_type": "stream",
     "text": [
      "{'India': 'New Delhi', 'USA': 'Washington DC', 'France': 'Paris', 'Sri Lanka': 'Colmbo'}\n"
     ]
    }
   ],
   "source": [
    "print(capital)"
   ]
  },
  {
   "cell_type": "code",
   "execution_count": 12,
   "id": "a9944277",
   "metadata": {},
   "outputs": [
    {
     "name": "stdout",
     "output_type": "stream",
     "text": [
      "dict_keys(['India', 'USA', 'France', 'Sri Lanka'])\n"
     ]
    }
   ],
   "source": [
    "print(capital.keys())"
   ]
  },
  {
   "cell_type": "code",
   "execution_count": 13,
   "id": "c32729ac",
   "metadata": {},
   "outputs": [
    {
     "name": "stdout",
     "output_type": "stream",
     "text": [
      "dict_values(['New Delhi', 'Washington DC', 'Paris', 'Colmbo'])\n"
     ]
    }
   ],
   "source": [
    "print(capital.values())"
   ]
  },
  {
   "cell_type": "code",
   "execution_count": 14,
   "id": "f163adc6",
   "metadata": {},
   "outputs": [
    {
     "ename": "KeyError",
     "evalue": "'UK'",
     "output_type": "error",
     "traceback": [
      "\u001b[1;31m---------------------------------------------------------------------------\u001b[0m",
      "\u001b[1;31mKeyError\u001b[0m                                  Traceback (most recent call last)",
      "\u001b[1;32m<ipython-input-14-859f6440e651>\u001b[0m in \u001b[0;36m<module>\u001b[1;34m\u001b[0m\n\u001b[0;32m      1\u001b[0m \u001b[1;31m#obviously give error as UK is not a key\u001b[0m\u001b[1;33m\u001b[0m\u001b[1;33m\u001b[0m\u001b[1;33m\u001b[0m\u001b[0m\n\u001b[1;32m----> 2\u001b[1;33m \u001b[0mprint\u001b[0m\u001b[1;33m(\u001b[0m\u001b[0mcapital\u001b[0m\u001b[1;33m[\u001b[0m\u001b[1;34m'UK'\u001b[0m\u001b[1;33m]\u001b[0m\u001b[1;33m)\u001b[0m\u001b[1;33m\u001b[0m\u001b[1;33m\u001b[0m\u001b[0m\n\u001b[0m",
      "\u001b[1;31mKeyError\u001b[0m: 'UK'"
     ]
    }
   ],
   "source": [
    "#obviously give error as UK is not a key\n",
    "print(capital['UK'])"
   ]
  },
  {
   "cell_type": "code",
   "execution_count": 15,
   "id": "894b275a",
   "metadata": {},
   "outputs": [],
   "source": [
    "#setting capital of UK\n",
    "capital['UK']='London'"
   ]
  },
  {
   "cell_type": "code",
   "execution_count": 16,
   "id": "c875632d",
   "metadata": {},
   "outputs": [
    {
     "name": "stdout",
     "output_type": "stream",
     "text": [
      "{'India': 'New Delhi', 'USA': 'Washington DC', 'France': 'Paris', 'Sri Lanka': 'Colmbo', 'UK': 'London'}\n"
     ]
    }
   ],
   "source": [
    "print(capital)"
   ]
  },
  {
   "cell_type": "code",
   "execution_count": 17,
   "id": "e10229b0",
   "metadata": {},
   "outputs": [
    {
     "name": "stdout",
     "output_type": "stream",
     "text": [
      "London\n"
     ]
    }
   ],
   "source": [
    "#now it is fine\n",
    "print(capital['UK'])"
   ]
  },
  {
   "cell_type": "code",
   "execution_count": 18,
   "id": "44b580fa",
   "metadata": {},
   "outputs": [
    {
     "data": {
      "text/plain": [
       "5"
      ]
     },
     "execution_count": 18,
     "metadata": {},
     "output_type": "execute_result"
    }
   ],
   "source": [
    "len(capital) #giving the length of the dictionary"
   ]
  },
  {
   "cell_type": "markdown",
   "id": "ee7931d3",
   "metadata": {},
   "source": [
    "Q.9"
   ]
  },
  {
   "cell_type": "code",
   "execution_count": 19,
   "id": "c382fbb9",
   "metadata": {},
   "outputs": [
    {
     "name": "stdout",
     "output_type": "stream",
     "text": [
      "list is [1, 1, 4, 7, 8, 4, 5, 6, 7]\n",
      "but set is {1, 4, 5, 6, 7, 8}\n"
     ]
    }
   ],
   "source": [
    "my_list=[1,1,4,7,8,4,5,6,7] #list can have same file multiple time\n",
    "my_set= set(my_list) #set contains one element one time\n",
    "print('list is',my_list)\n",
    "print('but set is', my_set)"
   ]
  },
  {
   "cell_type": "code",
   "execution_count": 20,
   "id": "b4bb6477",
   "metadata": {},
   "outputs": [
    {
     "ename": "TypeError",
     "evalue": "'set' object is not subscriptable",
     "output_type": "error",
     "traceback": [
      "\u001b[1;31m---------------------------------------------------------------------------\u001b[0m",
      "\u001b[1;31mTypeError\u001b[0m                                 Traceback (most recent call last)",
      "\u001b[1;32m<ipython-input-20-5cd236a30126>\u001b[0m in \u001b[0;36m<module>\u001b[1;34m\u001b[0m\n\u001b[1;32m----> 1\u001b[1;33m \u001b[0mmy_set\u001b[0m\u001b[1;33m[\u001b[0m\u001b[1;36m0\u001b[0m\u001b[1;33m]\u001b[0m \u001b[1;31m#set object is not subscriptable but list is\u001b[0m\u001b[1;33m\u001b[0m\u001b[1;33m\u001b[0m\u001b[0m\n\u001b[0m",
      "\u001b[1;31mTypeError\u001b[0m: 'set' object is not subscriptable"
     ]
    }
   ],
   "source": [
    "my_set[0] #set object is not subscriptable but list is"
   ]
  },
  {
   "cell_type": "code",
   "execution_count": 21,
   "id": "5989537b",
   "metadata": {},
   "outputs": [
    {
     "name": "stdout",
     "output_type": "stream",
     "text": [
      "{4, 7, 'DIAT', 'Math', -5.38}\n"
     ]
    }
   ],
   "source": [
    "set1={4, 7, 'DIAT',-5.38, 'Math'} #list containg many types of data\n",
    "print(set1)"
   ]
  },
  {
   "cell_type": "code",
   "execution_count": 22,
   "id": "9a52aad6",
   "metadata": {},
   "outputs": [
    {
     "data": {
      "text/plain": [
       "5"
      ]
     },
     "execution_count": 22,
     "metadata": {},
     "output_type": "execute_result"
    }
   ],
   "source": [
    "len(set1)"
   ]
  },
  {
   "cell_type": "code",
   "execution_count": 23,
   "id": "d7ddb6e5",
   "metadata": {},
   "outputs": [
    {
     "name": "stdout",
     "output_type": "stream",
     "text": [
      "{16, 0, 36, 4}\n"
     ]
    }
   ],
   "source": [
    "#set comprehension\n",
    "new_set={x*x for x in range (-7,8) if x%2==0} #giving even elements square\n",
    "print(new_set)"
   ]
  },
  {
   "cell_type": "code",
   "execution_count": 24,
   "id": "c7a37216",
   "metadata": {},
   "outputs": [
    {
     "name": "stdout",
     "output_type": "stream",
     "text": [
      "{'o', ' ', 'n', 'g', 'p', 'a', 'm', 't', 'h', 'r', 'y', 'i'}\n"
     ]
    }
   ],
   "source": [
    "# making set from string\n",
    "set2=set('python programming')\n",
    "print(set2)"
   ]
  },
  {
   "cell_type": "markdown",
   "id": "64faf009",
   "metadata": {},
   "source": [
    "Q.10"
   ]
  },
  {
   "cell_type": "code",
   "execution_count": 25,
   "id": "08636c56",
   "metadata": {},
   "outputs": [],
   "source": [
    "# making tuples by different way\n",
    "tuple1= tuple() # empty tuple\n",
    "tuple2=() # it is also empty tuple\n",
    "tuple3=(1,3,4) \n",
    "tuple4=(1,'a',-2,-4.8) #tuple containing many types of data\n",
    "tuple5=2,5,-3,5.45,'b' # by this way we can also make tuple     ## special\n",
    "tuple6=tuple(['my','name']) #from a list to tuple\n",
    "tuple7=tuple({3,6,5}) #from a set to tuple\n",
    "tuple8=tuple(capital) #from a dictionary to tuple  see the dictionary capital in Q.8 solution\n",
    "tuple9= tuple('DIAT') # using a string making tuple"
   ]
  },
  {
   "cell_type": "code",
   "execution_count": 26,
   "id": "08a845c0",
   "metadata": {},
   "outputs": [
    {
     "name": "stdout",
     "output_type": "stream",
     "text": [
      "tuple1 is ()\n",
      "tuple2 is ()\n",
      "tuple3 is (1, 3, 4)\n",
      "tuple4 is (1, 'a', -2, -4.8)\n",
      "tuple5 is (2, 5, -3, 5.45, 'b')\n",
      "tuple6 is ('my', 'name')\n",
      "tuple7 is (3, 5, 6)\n",
      "tuple8 is ('India', 'USA', 'France', 'Sri Lanka', 'UK')\n",
      "tuple9 is ('D', 'I', 'A', 'T')\n"
     ]
    }
   ],
   "source": [
    "print('tuple1 is', tuple1)\n",
    "print('tuple2 is', tuple2)\n",
    "print('tuple3 is', tuple3)\n",
    "print('tuple4 is', tuple4)\n",
    "print('tuple5 is', tuple5)\n",
    "print('tuple6 is', tuple6)\n",
    "print('tuple7 is', tuple7)\n",
    "print('tuple8 is', tuple8)\n",
    "print('tuple9 is', tuple9)"
   ]
  },
  {
   "cell_type": "code",
   "execution_count": 27,
   "id": "94cddb41",
   "metadata": {},
   "outputs": [
    {
     "name": "stdout",
     "output_type": "stream",
     "text": [
      "length of tuple1 is 0\n",
      "length of tuple3 is 3\n",
      "length of tuple8 is 5\n",
      "length of tuple9 is 4\n"
     ]
    }
   ],
   "source": [
    "print('length of tuple1 is', len(tuple1))\n",
    "print('length of tuple3 is', len(tuple3))\n",
    "print('length of tuple8 is', len(tuple8))\n",
    "print('length of tuple9 is', len(tuple9))"
   ]
  },
  {
   "cell_type": "code",
   "execution_count": 28,
   "id": "5235a036",
   "metadata": {},
   "outputs": [
    {
     "name": "stdout",
     "output_type": "stream",
     "text": [
      "D\n",
      "T\n"
     ]
    }
   ],
   "source": [
    "print(tuple9[0]) # tuple object is subscriptable\n",
    "print(tuple9[-1])"
   ]
  },
  {
   "cell_type": "code",
   "execution_count": 29,
   "id": "34b52d49",
   "metadata": {},
   "outputs": [
    {
     "name": "stdout",
     "output_type": "stream",
     "text": [
      "(1, 3, 4) (1, 'a', -2, -4.8)\n",
      "by adding above two tuple (1, 3, 4, 1, 'a', -2, -4.8)\n",
      "It containg 1 two times which is not like set\n"
     ]
    }
   ],
   "source": [
    "print(tuple3,tuple4)\n",
    "print('by adding above two tuple', tuple3+ tuple4) #addition of two tuple\n",
    "print('It containg 1 two times which is not like set')"
   ]
  },
  {
   "cell_type": "code",
   "execution_count": 30,
   "id": "b461f0df",
   "metadata": {},
   "outputs": [
    {
     "name": "stdout",
     "output_type": "stream",
     "text": [
      "the new tuple is (2, 5, -3, 5.45, 'b', 2, 5, -3, 5.45, 'b', 2, 5, -3, 5.45, 'b')\n",
      "(-3, 5.45, 'b', 2)\n"
     ]
    }
   ],
   "source": [
    "# multiplication and slicing of tuple\n",
    "new_tuple= tuple5*3\n",
    "print('the new tuple is', new_tuple)\n",
    "print(new_tuple[2:6]) # slicing"
   ]
  },
  {
   "cell_type": "code",
   "execution_count": 31,
   "id": "d66d8370",
   "metadata": {},
   "outputs": [
    {
     "name": "stdout",
     "output_type": "stream",
     "text": [
      "x= my\n",
      "y= name\n",
      "z= 1\n",
      "<class 'str'> <class 'str'> <class 'int'>\n"
     ]
    }
   ],
   "source": [
    "# unpacking tuples         ## Basic\n",
    "x,y,z= ('my','name',1)\n",
    "print('x=',x)\n",
    "print('y=',y)\n",
    "print('z=',z)\n",
    "print(type(x),type(y), type(z))"
   ]
  },
  {
   "cell_type": "code",
   "execution_count": 32,
   "id": "83bbc08b",
   "metadata": {},
   "outputs": [
    {
     "name": "stdout",
     "output_type": "stream",
     "text": [
      "x= [10, 'orange', '34']\n",
      "y= 17\n",
      "z= apple\n",
      "<class 'list'> <class 'int'> <class 'str'>\n"
     ]
    }
   ],
   "source": [
    "# unpacking tuples                            ## Advance\n",
    "*x,y,z=(10,'orange','34',17,'apple')\n",
    "print('x=',x)\n",
    "print('y=',y)\n",
    "print('z=',z)\n",
    "print(type(x),type(y), type(z))"
   ]
  },
  {
   "cell_type": "code",
   "execution_count": 33,
   "id": "c73a9e5f",
   "metadata": {},
   "outputs": [
    {
     "name": "stdout",
     "output_type": "stream",
     "text": [
      "x= 10\n",
      "y= ['orange', '34', 17]\n",
      "z= apple\n",
      "<class 'int'> <class 'list'> <class 'str'>\n"
     ]
    }
   ],
   "source": [
    "x,*y,z=(10,'orange','34',17,'apple')\n",
    "print('x=',x)\n",
    "print('y=',y)\n",
    "print('z=',z)\n",
    "print(type(x),type(y), type(z))"
   ]
  },
  {
   "cell_type": "code",
   "execution_count": 34,
   "id": "d445e1a4",
   "metadata": {},
   "outputs": [
    {
     "name": "stdout",
     "output_type": "stream",
     "text": [
      "x= 10\n",
      "y= orange\n",
      "z= ['34', 17, 'apple']\n",
      "<class 'int'> <class 'str'> <class 'list'>\n"
     ]
    }
   ],
   "source": [
    "x,y,*z=(10,'orange','34',17,'apple')\n",
    "print('x=',x)\n",
    "print('y=',y)\n",
    "print('z=',z)\n",
    "print(type(x),type(y), type(z))"
   ]
  },
  {
   "cell_type": "code",
   "execution_count": 35,
   "id": "75a2d539",
   "metadata": {},
   "outputs": [
    {
     "ename": "SyntaxError",
     "evalue": "two starred expressions in assignment (<ipython-input-35-08fed4f96eb0>, line 1)",
     "output_type": "error",
     "traceback": [
      "\u001b[1;36m  File \u001b[1;32m\"<ipython-input-35-08fed4f96eb0>\"\u001b[1;36m, line \u001b[1;32m1\u001b[0m\n\u001b[1;33m    *x,y,*z=(10,'orange','34',17,'apple')        ## multiple starred expressions not allowed\u001b[0m\n\u001b[1;37m    ^\u001b[0m\n\u001b[1;31mSyntaxError\u001b[0m\u001b[1;31m:\u001b[0m two starred expressions in assignment\n"
     ]
    }
   ],
   "source": [
    "*x,y,*z=(10,'orange','34',17,'apple')        ## multiple starred expressions not allowed\n",
    "print('x=',x)\n",
    "print('y=',y)\n",
    "print('z=',z)\n",
    "print(type(x),type(y), type(z))"
   ]
  },
  {
   "cell_type": "markdown",
   "id": "bbe89ea5",
   "metadata": {},
   "source": [
    "Q.11"
   ]
  },
  {
   "cell_type": "code",
   "execution_count": 36,
   "id": "dcdc68c2",
   "metadata": {},
   "outputs": [
    {
     "name": "stdout",
     "output_type": "stream",
     "text": [
      "give space separated values: 25 2.25 3.65 23.5 85\n",
      "values are in sorted order is  2.25  3.65  23.5  25.0  85.0  \n",
      "\n",
      "23.5\n"
     ]
    }
   ],
   "source": [
    "a=list(map(float,input('give space separated values: ').split()))\n",
    "a.sort()\n",
    "if len(a)%2==0:\n",
    "    median=(a[len(a)//2-1]+a[(len(a)//2)])/2\n",
    "else:\n",
    "    median= a[len(a)//2]\n",
    "print('values are in sorted order is ', end=' ')\n",
    "for i in a:\n",
    "    print(i, end='  ')\n",
    "print('\\n')\n",
    "print(median)"
   ]
  },
  {
   "cell_type": "markdown",
   "id": "18363268",
   "metadata": {},
   "source": [
    "Q.12"
   ]
  },
  {
   "cell_type": "code",
   "execution_count": 37,
   "id": "9d39b941",
   "metadata": {},
   "outputs": [
    {
     "name": "stdout",
     "output_type": "stream",
     "text": [
      "give space separated values: 2 3 6 5 4 6 4\n",
      "After counting each element from the given list we have:  {2.0: 1, 3.0: 1, 4.0: 2, 5.0: 1, 6.0: 2}\n",
      "The modes are: \n",
      "4.0\n",
      "6.0\n"
     ]
    }
   ],
   "source": [
    "def counter(my_list):\n",
    "    occ={}\n",
    "    for item in my_list:\n",
    "        occ[item]=my_list.count(item)\n",
    "    return occ\n",
    "my_list=list(map(float,input('give space separated values: ').split()))\n",
    "my_list.sort()\n",
    "counts=counter(my_list)\n",
    "print('After counting each element from the given list we have: ',counts)\n",
    "max_occ= max(counts.values())\n",
    "print('The modes are: ')\n",
    "for item in counts:\n",
    "    if (counts[item]== max_occ):\n",
    "        print(item)\n",
    "    "
   ]
  },
  {
   "cell_type": "markdown",
   "id": "25534246",
   "metadata": {},
   "source": [
    "Q.13"
   ]
  },
  {
   "cell_type": "code",
   "execution_count": 38,
   "id": "7ec7d080",
   "metadata": {},
   "outputs": [
    {
     "name": "stdout",
     "output_type": "stream",
     "text": [
      "give space separated values: 5 6 3 4 8 6\n",
      "5.333333333333333\n"
     ]
    }
   ],
   "source": [
    "my_list=list(map(float,input('give space separated values: ').split()))\n",
    "mean= sum(my_list)/len(my_list)\n",
    "print(mean)"
   ]
  },
  {
   "cell_type": "markdown",
   "id": "35472cc1",
   "metadata": {},
   "source": [
    "Q.14"
   ]
  },
  {
   "cell_type": "code",
   "execution_count": 39,
   "id": "6877d451",
   "metadata": {},
   "outputs": [
    {
     "name": "stdout",
     "output_type": "stream",
     "text": [
      "[1, 'a', 3]\n",
      "after appending the list becomes [1, 'a', 3, [4, 5]]\n"
     ]
    }
   ],
   "source": [
    "old_list=[1,'a',3]\n",
    "another_list=[4,5]\n",
    "print(old_list)\n",
    "old_list.append(another_list)\n",
    "print('after appending the list becomes',old_list)"
   ]
  },
  {
   "cell_type": "markdown",
   "id": "5d127d38",
   "metadata": {},
   "source": [
    "Q.15"
   ]
  },
  {
   "cell_type": "code",
   "execution_count": 40,
   "id": "f6cf87d3",
   "metadata": {},
   "outputs": [
    {
     "name": "stdout",
     "output_type": "stream",
     "text": [
      "old list is [1, 'a', 3, [4, 5]]\n"
     ]
    },
    {
     "data": {
      "text/plain": [
       "['a', 3]"
      ]
     },
     "execution_count": 40,
     "metadata": {},
     "output_type": "execute_result"
    }
   ],
   "source": [
    "print('old list is',old_list)\n",
    "sliced_list=old_list[1:3]\n",
    "sliced_list"
   ]
  },
  {
   "cell_type": "markdown",
   "id": "f65716f3",
   "metadata": {},
   "source": [
    "Q.16"
   ]
  },
  {
   "cell_type": "code",
   "execution_count": 41,
   "id": "167f3402",
   "metadata": {},
   "outputs": [
    {
     "name": "stdout",
     "output_type": "stream",
     "text": [
      "maximum of this list is 7\n",
      "min of this list is 1\n"
     ]
    }
   ],
   "source": [
    "my_list=[4,5,7,1,2,4,5,3]\n",
    "print('maximum of this list is',max(my_list))\n",
    "print('min of this list is', min(my_list))"
   ]
  },
  {
   "cell_type": "markdown",
   "id": "dcf1c362",
   "metadata": {},
   "source": [
    "Q.17"
   ]
  },
  {
   "cell_type": "code",
   "execution_count": 1,
   "id": "e626350d",
   "metadata": {},
   "outputs": [
    {
     "name": "stdout",
     "output_type": "stream",
     "text": [
      "Enter space separated integer: 25 23 26 24 84\n",
      "your list is [25, 23, 26, 24, 84]\n",
      "Enter what you want to search: 24\n",
      "24 is in your list\n",
      "24 occur in your list 1 times\n",
      "first occurence of 24 at index no. 3\n"
     ]
    }
   ],
   "source": [
    "your_list=list(map(int,input('Enter space separated integer: ').split()))\n",
    "print('your list is',your_list)\n",
    "f=int(input('Enter what you want to search: '))\n",
    "if f in your_list:\n",
    "    print(f,'is in your list')\n",
    "    print(f,'occur in your list',your_list.count(f),'times')\n",
    "    print('first occurence of',f,'at index no.',your_list.index(f))\n",
    "    "
   ]
  },
  {
   "cell_type": "markdown",
   "id": "94a7a1f2",
   "metadata": {},
   "source": [
    "Q.18"
   ]
  },
  {
   "cell_type": "code",
   "execution_count": 2,
   "id": "e1206eda",
   "metadata": {},
   "outputs": [
    {
     "name": "stdout",
     "output_type": "stream",
     "text": [
      "[[0, 0], [0, 0], [0, 0]]\n"
     ]
    }
   ],
   "source": [
    "## 2D list\n",
    "arr=[[0]*2]*3\n",
    "print(arr)"
   ]
  },
  {
   "cell_type": "markdown",
   "id": "014507a3",
   "metadata": {},
   "source": [
    "Q.19"
   ]
  },
  {
   "cell_type": "code",
   "execution_count": 3,
   "id": "ea05cf6f",
   "metadata": {},
   "outputs": [
    {
     "name": "stdout",
     "output_type": "stream",
     "text": [
      "1\n",
      "2\n",
      "5\n",
      "6\n",
      "7\n",
      "8\n"
     ]
    }
   ],
   "source": [
    "a=[[1,2],[5,6],[7,8]]\n",
    "for i in range(len(a)):\n",
    "    for j in range(2):      #one way to iterate\n",
    "        print(a[i][j])"
   ]
  },
  {
   "cell_type": "code",
   "execution_count": 4,
   "id": "dc2ff2e0",
   "metadata": {},
   "outputs": [
    {
     "name": "stdout",
     "output_type": "stream",
     "text": [
      "1\n",
      "2\n",
      "5\n",
      "6\n",
      "7\n",
      "8\n"
     ]
    }
   ],
   "source": [
    "for x,y in a:\n",
    "    print(x)      # another way to iterate\n",
    "    print(y)"
   ]
  },
  {
   "cell_type": "markdown",
   "id": "2ac18801",
   "metadata": {},
   "source": [
    "Q.20"
   ]
  },
  {
   "cell_type": "code",
   "execution_count": 5,
   "id": "e55a5fe7",
   "metadata": {},
   "outputs": [
    {
     "name": "stdout",
     "output_type": "stream",
     "text": [
      "Enter space separated integer: 2 3 4 5 7 8\n",
      "Enter from which index you want to split: 3\n",
      "your list is splitted into parts  [2, 3, 4] and [5, 7, 8]\n"
     ]
    }
   ],
   "source": [
    "# spliting of list\n",
    "your_list=list(map(int,input('Enter space separated integer: ').split()))\n",
    "i=int(input('Enter from which index you want to split: '))\n",
    "c=your_list[:i]\n",
    "d=your_list[i:]\n",
    "print('your list is splitted into parts ',c,'and',d)\n"
   ]
  },
  {
   "cell_type": "code",
   "execution_count": 6,
   "id": "5aba035e",
   "metadata": {},
   "outputs": [
    {
     "name": "stdout",
     "output_type": "stream",
     "text": [
      "Enter space separated integer: 2 3 5\n",
      "Enter space separated integer: 1 2 4\n",
      "[2, 3, 5, 1, 2, 4]\n"
     ]
    }
   ],
   "source": [
    "# joining of two list\n",
    "first_list=list(map(int,input('Enter space separated integer: ').split()))\n",
    "second_list=list(map(int,input('Enter space separated integer: ').split()))\n",
    "for element in second_list:\n",
    "    first_list.append(element)\n",
    "print(first_list)"
   ]
  },
  {
   "cell_type": "code",
   "execution_count": null,
   "id": "f26dee2c",
   "metadata": {},
   "outputs": [],
   "source": []
  },
  {
   "cell_type": "code",
   "execution_count": null,
   "id": "b4b23119",
   "metadata": {},
   "outputs": [],
   "source": []
  },
  {
   "cell_type": "code",
   "execution_count": null,
   "id": "16e002a8",
   "metadata": {},
   "outputs": [],
   "source": []
  }
 ],
 "metadata": {
  "kernelspec": {
   "display_name": "Python 3",
   "language": "python",
   "name": "python3"
  },
  "language_info": {
   "codemirror_mode": {
    "name": "ipython",
    "version": 3
   },
   "file_extension": ".py",
   "mimetype": "text/x-python",
   "name": "python",
   "nbconvert_exporter": "python",
   "pygments_lexer": "ipython3",
   "version": "3.8.8"
  }
 },
 "nbformat": 4,
 "nbformat_minor": 5
}
